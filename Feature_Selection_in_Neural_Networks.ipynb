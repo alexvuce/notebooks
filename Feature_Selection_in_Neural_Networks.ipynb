{
  "nbformat": 4,
  "nbformat_minor": 0,
  "metadata": {
    "colab": {
      "name": "Feature Selection in Neural Networks.ipynb",
      "provenance": [],
      "collapsed_sections": []
    },
    "kernelspec": {
      "name": "python3",
      "display_name": "Python 3"
    },
    "language_info": {
      "name": "python"
    },
    "accelerator": "GPU"
  },
  "cells": [
    {
      "cell_type": "markdown",
      "source": [
        "Neural networks are excellent computation tools for highly non-linear problem spaces. However, when the input feature space is polluted by an overwhelming amount of 'noise' features, their performance suffers. Tree-based methods offer an efficient alternative for this special case of problem:"
      ],
      "metadata": {
        "id": "FJ3ww6W2NSIX"
      }
    },
    {
      "cell_type": "code",
      "execution_count": 6,
      "metadata": {
        "id": "RXjk40rT0MPK"
      },
      "outputs": [],
      "source": [
        "import numpy as np\n",
        "import pandas as pd\n",
        "import random\n",
        "import tensorflow as tf\n",
        "import xgboost as xgb"
      ]
    },
    {
      "cell_type": "markdown",
      "source": [
        "We will first create $y$ which we will then try to model using a fully-connected feedforward neural network. Let \\\\\n",
        "$$ y = \\frac{1}{2}x_1^2 + \\frac{\\sqrt{5}}{2}x_2 + \\frac{1}{3}x_3^3 + \\epsilon $$"
      ],
      "metadata": {
        "id": "eWM7o-o71Eht"
      }
    },
    {
      "cell_type": "code",
      "source": [
        "def func(X):\n",
        "    return X[:,0] ** 2 / 2 + X[:,1] * np.sqrt(5) / 2 + X[:,2] ** 3 / 3 + \\\n",
        "    np.random.normal(scale=1e-5, size=X.shape[0])"
      ],
      "metadata": {
        "id": "P8d5iQpu0QKo"
      },
      "execution_count": 3,
      "outputs": []
    },
    {
      "cell_type": "code",
      "source": [
        "X = np.random.normal(size=(50000,3))"
      ],
      "metadata": {
        "id": "wYSSfF0M3ruZ"
      },
      "execution_count": 4,
      "outputs": []
    },
    {
      "cell_type": "code",
      "source": [
        "y = func(X)"
      ],
      "metadata": {
        "id": "ogcfDWo53tew"
      },
      "execution_count": 5,
      "outputs": []
    },
    {
      "cell_type": "code",
      "source": [
        "train_ix = random.sample(range(X.shape[0]), int(0.8 * X.shape[0]))\n",
        "test_ix = np.setdiff1d([i for i in range(X.shape[0])], train_ix)"
      ],
      "metadata": {
        "id": "nhL8qsO-Qdua"
      },
      "execution_count": 8,
      "outputs": []
    },
    {
      "cell_type": "code",
      "source": [
        "X_train = X[train_ix]\n",
        "X_test = X[test_ix]\n",
        "y_train = y[train_ix]\n",
        "y_test = y[test_ix]"
      ],
      "metadata": {
        "id": "xIC0pe6OREsG"
      },
      "execution_count": 9,
      "outputs": []
    },
    {
      "cell_type": "markdown",
      "source": [
        "Try to model this relationship using regression:"
      ],
      "metadata": {
        "id": "-3El97q5OGBG"
      }
    },
    {
      "cell_type": "code",
      "source": [
        "inputs = tf.keras.layers.Input(shape=(3,))\n",
        "outputs = tf.keras.layers.Dense(1)(inputs)\n",
        "\n",
        "model = tf.keras.Model(inputs=inputs, outputs=outputs, name=\"regression_model\")\n",
        "\n",
        "model.compile(\n",
        "    loss=tf.keras.losses.MeanSquaredError(),\n",
        "    optimizer=tf.keras.optimizers.RMSprop()\n",
        ")\n",
        "\n",
        "history = model.fit(X_train, \n",
        "                    y_train,\n",
        "                    batch_size=64, \n",
        "                    epochs=25, \n",
        "                    validation_data=(X_test, y_test), verbose=0)\n",
        "\n",
        "pd.DataFrame(history.history).plot(figsize=(8,5));"
      ],
      "metadata": {
        "colab": {
          "base_uri": "https://localhost:8080/",
          "height": 320
        },
        "id": "KVczgXsM5mxB",
        "outputId": "51be6b06-fe5d-43a2-9cfe-28badf84e450"
      },
      "execution_count": 10,
      "outputs": [
        {
          "output_type": "display_data",
          "data": {
            "text/plain": [
              "<Figure size 576x360 with 1 Axes>"
            ],
            "image/png": "[encoded data removed]"
          },
          "metadata": {
            "needs_background": "light"
          }
        }
      ]
    },
    {
      "cell_type": "code",
      "source": [
        "model.evaluate(X_test, y_test, verbose=0)"
      ],
      "metadata": {
        "colab": {
          "base_uri": "https://localhost:8080/"
        },
        "id": "ISkV7jY4WRIi",
        "outputId": "5025dfac-7175-42ab-f3bc-f83d59d907d4"
      },
      "execution_count": 11,
      "outputs": [
        {
          "output_type": "execute_result",
          "data": {
            "text/plain": [
              "1.1477854251861572"
            ]
          },
          "metadata": {},
          "execution_count": 11
        }
      ]
    },
    {
      "cell_type": "markdown",
      "source": [
        "Now we model the relationship using a hidden layer with non-linear activation:"
      ],
      "metadata": {
        "id": "82gSYZwPOPv3"
      }
    },
    {
      "cell_type": "code",
      "source": [
        "inputs = tf.keras.layers.Input(shape=(3,))\n",
        "dense = tf.keras.layers.Dense(64, activation=\"relu\")(inputs)\n",
        "outputs = tf.keras.layers.Dense(1)(dense)\n",
        "\n",
        "model = tf.keras.Model(inputs=inputs, outputs=outputs, name=\"shallow_dnn\")\n",
        "\n",
        "model.compile(\n",
        "    loss=tf.keras.losses.MeanSquaredError(),\n",
        "    optimizer=tf.keras.optimizers.RMSprop()\n",
        ")\n",
        "\n",
        "history = model.fit(X_train, \n",
        "                    y_train, \n",
        "                    batch_size=64, \n",
        "                    epochs=25, \n",
        "                    validation_data=(X_test, y_test), verbose=0)\n",
        "\n",
        "pd.DataFrame(history.history).plot(figsize=(8,5));"
      ],
      "metadata": {
        "colab": {
          "base_uri": "https://localhost:8080/",
          "height": 320
        },
        "id": "pqFBs6nC6isV",
        "outputId": "bcbfad5d-3c9c-4d35-8f80-f0ba8f2ef5b2"
      },
      "execution_count": 12,
      "outputs": [
        {
          "output_type": "display_data",
          "data": {
            "text/plain": [
              "<Figure size 576x360 with 1 Axes>"
            ],
            "image/png": "[encoded data removed]"
          },
          "metadata": {
            "needs_background": "light"
          }
        }
      ]
    },
    {
      "cell_type": "code",
      "source": [
        "model.evaluate(X_test, y_test, verbose=0)"
      ],
      "metadata": {
        "colab": {
          "base_uri": "https://localhost:8080/"
        },
        "id": "AY7dpQaqVmq2",
        "outputId": "e5192da2-ffa8-418d-a540-2a19dcb879ed"
      },
      "execution_count": 13,
      "outputs": [
        {
          "output_type": "execute_result",
          "data": {
            "text/plain": [
              "0.009521210566163063"
            ]
          },
          "metadata": {},
          "execution_count": 13
        }
      ]
    },
    {
      "cell_type": "markdown",
      "source": [
        "Now we introduce additional input features to see if the model can learn as good a representation in $\\hat{y}$:"
      ],
      "metadata": {
        "id": "wvpFpY0F9ic-"
      }
    },
    {
      "cell_type": "code",
      "source": [
        "X_noisey = np.hstack((X, np.random.normal(size=(50000,997))))\n",
        "\n",
        "X_train = X_noisey[train_ix]\n",
        "X_test = X_noisey[test_ix]"
      ],
      "metadata": {
        "id": "BkDriujw7png"
      },
      "execution_count": 14,
      "outputs": []
    },
    {
      "cell_type": "code",
      "source": [
        "inputs = tf.keras.layers.Input(shape=(1000,))\n",
        "outputs = tf.keras.layers.Dense(1)(inputs)\n",
        "\n",
        "model = tf.keras.Model(inputs=inputs, outputs=outputs, name=\"shallow_dnn_noisey\")\n",
        "\n",
        "model.compile(\n",
        "    loss=tf.keras.losses.MeanSquaredError(),\n",
        "    optimizer=tf.keras.optimizers.RMSprop()\n",
        ")\n",
        "\n",
        "history = model.fit(X_train, \n",
        "                    y_train, \n",
        "                    batch_size=64, \n",
        "                    epochs=25, \n",
        "                    validation_data=(X_test, y_test), verbose=0)\n",
        "\n",
        "pd.DataFrame(history.history).plot(figsize=(8,5));"
      ],
      "metadata": {
        "colab": {
          "base_uri": "https://localhost:8080/",
          "height": 320
        },
        "id": "z6ukT0pW_P_K",
        "outputId": "8aba7948-375e-4643-ef10-bb07229dc2b4"
      },
      "execution_count": 15,
      "outputs": [
        {
          "output_type": "display_data",
          "data": {
            "text/plain": [
              "<Figure size 576x360 with 1 Axes>"
            ],
            "image/png": "[encoded data removed]"
          },
          "metadata": {
            "needs_background": "light"
          }
        }
      ]
    },
    {
      "cell_type": "code",
      "source": [
        "model.evaluate(X_test, y_test, verbose=0)"
      ],
      "metadata": {
        "colab": {
          "base_uri": "https://localhost:8080/"
        },
        "id": "NR6DmcExYPK1",
        "outputId": "f5e7b427-f76f-44e8-b212-1070337d8471"
      },
      "execution_count": 16,
      "outputs": [
        {
          "output_type": "execute_result",
          "data": {
            "text/plain": [
              "1.2184631824493408"
            ]
          },
          "metadata": {},
          "execution_count": 16
        }
      ]
    },
    {
      "cell_type": "code",
      "source": [
        "inputs = tf.keras.layers.Input(shape=(1000,))\n",
        "dense = tf.keras.layers.Dense(1000, activation=\"relu\")(inputs)\n",
        "outputs = tf.keras.layers.Dense(1)(dense)\n",
        "\n",
        "model = tf.keras.Model(inputs=inputs, outputs=outputs, name=\"shallow_dnn_noisey\")\n",
        "\n",
        "model.compile(\n",
        "    loss=tf.keras.losses.MeanSquaredError(),\n",
        "    optimizer=tf.keras.optimizers.RMSprop()\n",
        ")\n",
        "\n",
        "history = model.fit(X_train, y_train, batch_size=64, epochs=25, validation_data=(X_test, y_test), verbose=0)\n",
        "\n",
        "pd.DataFrame(history.history).plot(figsize=(8,5));"
      ],
      "metadata": {
        "colab": {
          "base_uri": "https://localhost:8080/",
          "height": 320
        },
        "id": "q0S7bHljCwgb",
        "outputId": "9791c78c-e0cf-42da-bd08-f7df3aa61110"
      },
      "execution_count": 17,
      "outputs": [
        {
          "output_type": "display_data",
          "data": {
            "text/plain": [
              "<Figure size 576x360 with 1 Axes>"
            ],
            "image/png": "[encoded data removed]"
          },
          "metadata": {
            "needs_background": "light"
          }
        }
      ]
    },
    {
      "cell_type": "code",
      "source": [
        "model.evaluate(X_test, y_test, verbose=0)"
      ],
      "metadata": {
        "colab": {
          "base_uri": "https://localhost:8080/"
        },
        "id": "Luhf_3WWYRQm",
        "outputId": "4e232cab-e47d-4c5c-a9bc-2cfbfbac4844"
      },
      "execution_count": 18,
      "outputs": [
        {
          "output_type": "execute_result",
          "data": {
            "text/plain": [
              "0.9501705169677734"
            ]
          },
          "metadata": {},
          "execution_count": 18
        }
      ]
    },
    {
      "cell_type": "markdown",
      "source": [
        "A neural network having one hidden layer with ReLU activation fails to learn the underlying mapping and overfits to the noise in the training data yielding relatively high test error."
      ],
      "metadata": {
        "id": "Na_hKC8Gaek9"
      }
    },
    {
      "cell_type": "markdown",
      "source": [
        "What about XGBoost?"
      ],
      "metadata": {
        "id": "2TugLSuHPuzQ"
      }
    },
    {
      "cell_type": "code",
      "source": [
        "D_train = xgb.DMatrix(X_train, label=y_train)\n",
        "D_test = xgb.DMatrix(X_test, label=y_test)"
      ],
      "metadata": {
        "id": "-nCcCu_6PsG7"
      },
      "execution_count": 19,
      "outputs": []
    },
    {
      "cell_type": "code",
      "source": [
        "param = {\n",
        "    'eta': 0.3, \n",
        "    'max_depth': 3,  \n",
        "    'objective': 'reg:squarederror',  \n",
        "    } \n",
        "\n",
        "steps = 25  # The number of training iterations"
      ],
      "metadata": {
        "id": "Fp-Utj4kPyIE"
      },
      "execution_count": 20,
      "outputs": []
    },
    {
      "cell_type": "code",
      "source": [
        "model = xgb.train(param, D_train, steps)"
      ],
      "metadata": {
        "id": "JIDnrALhPyKS"
      },
      "execution_count": 21,
      "outputs": []
    },
    {
      "cell_type": "code",
      "source": [
        "preds = model.predict(D_test)"
      ],
      "metadata": {
        "id": "kYBidHU3PyNC"
      },
      "execution_count": 22,
      "outputs": []
    },
    {
      "cell_type": "code",
      "source": [
        "np.mean((preds - y_test) ** 2)"
      ],
      "metadata": {
        "colab": {
          "base_uri": "https://localhost:8080/"
        },
        "id": "6CLThSZrPyP_",
        "outputId": "61a8ecb6-ba14-485c-bdc7-83229020eea1"
      },
      "execution_count": 23,
      "outputs": [
        {
          "output_type": "execute_result",
          "data": {
            "text/plain": [
              "0.0777052794428191"
            ]
          },
          "metadata": {},
          "execution_count": 23
        }
      ]
    },
    {
      "cell_type": "code",
      "source": [
        "xgb.plot_importance(model);"
      ],
      "metadata": {
        "colab": {
          "base_uri": "https://localhost:8080/",
          "height": 295
        },
        "id": "xdV8AV43VXl2",
        "outputId": "c8402606-d3a1-4bb2-801c-703d2c3ddc01"
      },
      "execution_count": 24,
      "outputs": [
        {
          "output_type": "display_data",
          "data": {
            "text/plain": [
              "<Figure size 432x288 with 1 Axes>"
            ],
            "image/png": "[encoded data removed]"
          },
          "metadata": {
            "needs_background": "light"
          }
        }
      ]
    },
    {
      "cell_type": "markdown",
      "source": [
        "The boosting model identified only five features out of 1000; the overwhelmingly higher-ranking features are the 'true' features. "
      ],
      "metadata": {
        "id": "2yndLwLvaFhn"
      }
    }
  ]
}
