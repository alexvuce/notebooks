{
  "nbformat": 4,
  "nbformat_minor": 0,
  "metadata": {
    "colab": {
      "name": "Feature Selection in Neural Networks.ipynb",
      "provenance": [],
      "collapsed_sections": []
    },
    "kernelspec": {
      "name": "python3",
      "display_name": "Python 3"
    },
    "language_info": {
      "name": "python"
    },
    "accelerator": "GPU"
  },
  "cells": [
    {
      "cell_type": "markdown",
      "source": [
        "Neural networks are excellent computational tools for highly non-linear problem spaces. However, when the input feature space is polluted by noise, their performance suffers. The most popular deep learning frameworks - TensorFlow and PyTorch - do not provide off the shelf feature selection support. \n",
        "\n",
        "How is the performance of a neural network impacted by the presence of a noisy feature space and what alternatives are available? "
      ],
      "metadata": {
        "id": "FJ3ww6W2NSIX"
      }
    },
    {
      "cell_type": "code",
      "execution_count": 1,
      "metadata": {
        "id": "RXjk40rT0MPK"
      },
      "outputs": [],
      "source": [
        "import numpy as np\n",
        "import pandas as pd\n",
        "import random\n",
        "import tensorflow as tf\n",
        "import xgboost as xgb"
      ]
    },
    {
      "cell_type": "markdown",
      "source": [
        "We will first create $y$ which we will then try to model using a fully-connected feedforward neural network. Let \\\\\n",
        "$$ y = \\frac{1}{2}x_1^2 + \\frac{\\sqrt{5}}{2}x_2 + \\frac{1}{3}x_3^3 + \\epsilon $$"
      ],
      "metadata": {
        "id": "eWM7o-o71Eht"
      }
    },
    {
      "cell_type": "code",
      "source": [
        "def func(X):\n",
        "    return X[:,0] ** 2 / 2 + X[:,1] * np.sqrt(5) / 2 + X[:,2] ** 3 / 3 + \\\n",
        "    np.random.normal(scale=1e-5, size=X.shape[0])"
      ],
      "metadata": {
        "id": "P8d5iQpu0QKo"
      },
      "execution_count": 2,
      "outputs": []
    },
    {
      "cell_type": "code",
      "source": [
        "X = np.random.normal(size=(50000,3))"
      ],
      "metadata": {
        "id": "wYSSfF0M3ruZ"
      },
      "execution_count": 3,
      "outputs": []
    },
    {
      "cell_type": "code",
      "source": [
        "y = func(X)"
      ],
      "metadata": {
        "id": "ogcfDWo53tew"
      },
      "execution_count": 4,
      "outputs": []
    },
    {
      "cell_type": "code",
      "source": [
        "train_ix = random.sample(range(X.shape[0]), int(0.8 * X.shape[0]))\n",
        "test_ix = np.setdiff1d([i for i in range(X.shape[0])], train_ix)"
      ],
      "metadata": {
        "id": "nhL8qsO-Qdua"
      },
      "execution_count": 5,
      "outputs": []
    },
    {
      "cell_type": "code",
      "source": [
        "X_train = X[train_ix]\n",
        "X_test = X[test_ix]\n",
        "y_train = y[train_ix]\n",
        "y_test = y[test_ix]"
      ],
      "metadata": {
        "id": "xIC0pe6OREsG"
      },
      "execution_count": 6,
      "outputs": []
    },
    {
      "cell_type": "code",
      "source": [
        "data = [X_train, y_train, X_test, y_test]"
      ],
      "metadata": {
        "id": "0dXIOci3ouUq"
      },
      "execution_count": 7,
      "outputs": []
    },
    {
      "cell_type": "markdown",
      "source": [
        "Try to model this relationship using regression:"
      ],
      "metadata": {
        "id": "-3El97q5OGBG"
      }
    },
    {
      "cell_type": "code",
      "source": [
        "def run_train(model, X_train, y_train, X_test, y_test):\n",
        "  model.compile(\n",
        "    loss=tf.keras.losses.MeanSquaredError(),\n",
        "    optimizer=tf.keras.optimizers.RMSprop())\n",
        "  \n",
        "  history = model.fit(X_train, \n",
        "                      y_train, \n",
        "                      batch_size=64, \n",
        "                      epochs=25, \n",
        "                      validation_data=(X_test, y_test), \n",
        "                      verbose=0)\n",
        "  return history"
      ],
      "metadata": {
        "id": "VtfXJ4o6oL6k"
      },
      "execution_count": 8,
      "outputs": []
    },
    {
      "cell_type": "code",
      "source": [
        "inputs = tf.keras.layers.Input(shape=(3,))\n",
        "outputs = tf.keras.layers.Dense(1)(inputs)\n",
        "\n",
        "model = tf.keras.Model(inputs=inputs, outputs=outputs, name=\"regression_model\")\n",
        "\n",
        "history = run_train(model, *data)\n",
        "\n",
        "pd.DataFrame(history.history).plot(figsize=(8,5), title=model.name);"
      ],
      "metadata": {
        "colab": {
          "base_uri": "https://localhost:8080/",
          "height": 336
        },
        "id": "KVczgXsM5mxB",
        "outputId": "adb1fb75-7aa7-42f5-d8e1-efeb80ee4978"
      },
      "execution_count": 9,
      "outputs": [
        {
          "output_type": "display_data",
          "data": {
            "text/plain": [
              "<Figure size 576x360 with 1 Axes>"
            ],
            "image/png": "[encoded data removed]"
          },
          "metadata": {
            "needs_background": "light"
          }
        }
      ]
    },
    {
      "cell_type": "code",
      "source": [
        "r1 = model.evaluate(X_test, y_test, verbose=0); round(r1, 2)"
      ],
      "metadata": {
        "colab": {
          "base_uri": "https://localhost:8080/"
        },
        "id": "ISkV7jY4WRIi",
        "outputId": "9526cda2-e8de-4bd7-ffc7-45fe71f84b5d"
      },
      "execution_count": 10,
      "outputs": [
        {
          "output_type": "execute_result",
          "data": {
            "text/plain": [
              "1.06"
            ]
          },
          "metadata": {},
          "execution_count": 10
        }
      ]
    },
    {
      "cell_type": "markdown",
      "source": [
        "Now we model the relationship using a hidden layer with non-linear activation:"
      ],
      "metadata": {
        "id": "82gSYZwPOPv3"
      }
    },
    {
      "cell_type": "code",
      "source": [
        "inputs = tf.keras.layers.Input(shape=(3,))\n",
        "dense = tf.keras.layers.Dense(64, activation=\"relu\")(inputs)\n",
        "outputs = tf.keras.layers.Dense(1)(dense)\n",
        "\n",
        "model = tf.keras.Model(inputs=inputs, outputs=outputs, name=\"shallow_dnn\")\n",
        "\n",
        "history = run_train(model, *data)\n",
        "\n",
        "pd.DataFrame(history.history).plot(figsize=(8,5), title=model.name);"
      ],
      "metadata": {
        "colab": {
          "base_uri": "https://localhost:8080/",
          "height": 336
        },
        "id": "pqFBs6nC6isV",
        "outputId": "74daa23d-e8fd-4e85-b3a9-20a65e66b8e8"
      },
      "execution_count": 11,
      "outputs": [
        {
          "output_type": "display_data",
          "data": {
            "text/plain": [
              "<Figure size 576x360 with 1 Axes>"
            ],
            "image/png": "[encoded data removed]"
          },
          "metadata": {
            "needs_background": "light"
          }
        }
      ]
    },
    {
      "cell_type": "code",
      "source": [
        "r2 = model.evaluate(X_test, y_test, verbose=0); round(r2, 2)"
      ],
      "metadata": {
        "colab": {
          "base_uri": "https://localhost:8080/"
        },
        "id": "AY7dpQaqVmq2",
        "outputId": "4447205a-188f-406d-f3f7-c327bb4f32c3"
      },
      "execution_count": 12,
      "outputs": [
        {
          "output_type": "execute_result",
          "data": {
            "text/plain": [
              "0.0"
            ]
          },
          "metadata": {},
          "execution_count": 12
        }
      ]
    },
    {
      "cell_type": "markdown",
      "source": [
        "Now we introduce additional input features to see if the model can learn as good a representation in $\\hat{y}$:"
      ],
      "metadata": {
        "id": "wvpFpY0F9ic-"
      }
    },
    {
      "cell_type": "code",
      "source": [
        "X_noisey = np.hstack((X, np.random.normal(size=(50000,997))))\n",
        "\n",
        "X_train = X_noisey[train_ix]\n",
        "X_test = X_noisey[test_ix]\n",
        "\n",
        "data = [X_train, y_train, X_test, y_test]"
      ],
      "metadata": {
        "id": "BkDriujw7png"
      },
      "execution_count": 13,
      "outputs": []
    },
    {
      "cell_type": "code",
      "source": [
        "inputs = tf.keras.layers.Input(shape=(1000,))\n",
        "outputs = tf.keras.layers.Dense(1)(inputs)\n",
        "\n",
        "model = tf.keras.Model(inputs=inputs, outputs=outputs, name=\"shallow_dnn_noisey\")\n",
        "\n",
        "history = run_train(model, *data)\n",
        "\n",
        "pd.DataFrame(history.history).plot(figsize=(8,5), title=model.name);"
      ],
      "metadata": {
        "colab": {
          "base_uri": "https://localhost:8080/",
          "height": 336
        },
        "id": "z6ukT0pW_P_K",
        "outputId": "8f0e432c-d3dd-4497-bf11-5f41126baa90"
      },
      "execution_count": 14,
      "outputs": [
        {
          "output_type": "display_data",
          "data": {
            "text/plain": [
              "<Figure size 576x360 with 1 Axes>"
            ],
            "image/png": "[encoded data removed]"
          },
          "metadata": {
            "needs_background": "light"
          }
        }
      ]
    },
    {
      "cell_type": "code",
      "source": [
        "r3 = model.evaluate(X_test, y_test, verbose=0); round(r3, 2)"
      ],
      "metadata": {
        "colab": {
          "base_uri": "https://localhost:8080/"
        },
        "id": "NR6DmcExYPK1",
        "outputId": "9e81c9d6-7fbc-45e4-e9fc-b2d71ad686d1"
      },
      "execution_count": 15,
      "outputs": [
        {
          "output_type": "execute_result",
          "data": {
            "text/plain": [
              "1.13"
            ]
          },
          "metadata": {},
          "execution_count": 15
        }
      ]
    },
    {
      "cell_type": "code",
      "source": [
        "inputs = tf.keras.layers.Input(shape=(1000,))\n",
        "dense = tf.keras.layers.Dense(1000, activation=\"relu\")(inputs)\n",
        "outputs = tf.keras.layers.Dense(1)(dense)\n",
        "\n",
        "model = tf.keras.Model(inputs=inputs, outputs=outputs, name=\"shallow_dnn_noisey\")\n",
        "\n",
        "history = run_train(model, *data)\n",
        "\n",
        "pd.DataFrame(history.history).plot(figsize=(8,5), title=model.name);"
      ],
      "metadata": {
        "colab": {
          "base_uri": "https://localhost:8080/",
          "height": 336
        },
        "id": "q0S7bHljCwgb",
        "outputId": "aaf8b98a-ba15-46a0-aa9a-eb97a3e85a62"
      },
      "execution_count": 16,
      "outputs": [
        {
          "output_type": "display_data",
          "data": {
            "text/plain": [
              "<Figure size 576x360 with 1 Axes>"
            ],
            "image/png": "[encoded data removed]"
          },
          "metadata": {
            "needs_background": "light"
          }
        }
      ]
    },
    {
      "cell_type": "code",
      "source": [
        "r4 = model.evaluate(X_test, y_test, verbose=0); round(r4, 2)"
      ],
      "metadata": {
        "colab": {
          "base_uri": "https://localhost:8080/"
        },
        "id": "Luhf_3WWYRQm",
        "outputId": "86c40066-0180-45d5-ae49-da053ecaee74"
      },
      "execution_count": 17,
      "outputs": [
        {
          "output_type": "execute_result",
          "data": {
            "text/plain": [
              "0.85"
            ]
          },
          "metadata": {},
          "execution_count": 17
        }
      ]
    },
    {
      "cell_type": "markdown",
      "source": [
        "A neural network having one hidden layer with ReLU activation fails to learn the underlying mapping and overfits to the noise in the training data yielding relatively high test error."
      ],
      "metadata": {
        "id": "Na_hKC8Gaek9"
      }
    },
    {
      "cell_type": "markdown",
      "source": [
        "Tree-based methods offer an efficient alternative for this special case of problem; [XGBoost](https://xgboost.readthedocs.io/en/stable/) is an implementation of gradient boosting first described in  [Friedman (1999)](https://www.jstor.org/stable/2699986). "
      ],
      "metadata": {
        "id": "2TugLSuHPuzQ"
      }
    },
    {
      "cell_type": "code",
      "source": [
        "D_train = xgb.DMatrix(X_train, label=y_train)\n",
        "D_test = xgb.DMatrix(X_test, label=y_test)"
      ],
      "metadata": {
        "id": "-nCcCu_6PsG7"
      },
      "execution_count": 18,
      "outputs": []
    },
    {
      "cell_type": "code",
      "source": [
        "param = {\n",
        "    'eta': 0.3, \n",
        "    'max_depth': 3,  \n",
        "    'objective': 'reg:squarederror',  \n",
        "    } \n",
        "\n",
        "steps = 25 "
      ],
      "metadata": {
        "id": "Fp-Utj4kPyIE"
      },
      "execution_count": 19,
      "outputs": []
    },
    {
      "cell_type": "code",
      "source": [
        "model = xgb.train(param, D_train, steps)"
      ],
      "metadata": {
        "id": "JIDnrALhPyKS"
      },
      "execution_count": 20,
      "outputs": []
    },
    {
      "cell_type": "code",
      "source": [
        "preds = model.predict(D_test)"
      ],
      "metadata": {
        "id": "kYBidHU3PyNC"
      },
      "execution_count": 21,
      "outputs": []
    },
    {
      "cell_type": "code",
      "source": [
        "r5 = np.mean((preds - y_test) ** 2); round(r5, 2)"
      ],
      "metadata": {
        "colab": {
          "base_uri": "https://localhost:8080/"
        },
        "id": "6CLThSZrPyP_",
        "outputId": "9af9bfc4-fabe-4ea6-ced2-cea572c25228"
      },
      "execution_count": 22,
      "outputs": [
        {
          "output_type": "execute_result",
          "data": {
            "text/plain": [
              "0.06"
            ]
          },
          "metadata": {},
          "execution_count": 22
        }
      ]
    },
    {
      "cell_type": "code",
      "source": [
        "xgb.plot_importance(model);"
      ],
      "metadata": {
        "colab": {
          "base_uri": "https://localhost:8080/",
          "height": 295
        },
        "id": "xdV8AV43VXl2",
        "outputId": "df6d396c-2ab5-4f77-c352-eb806668c343"
      },
      "execution_count": 23,
      "outputs": [
        {
          "output_type": "display_data",
          "data": {
            "text/plain": [
              "<Figure size 432x288 with 1 Axes>"
            ],
            "image/png": "[encoded data removed]"
          },
          "metadata": {
            "needs_background": "light"
          }
        }
      ]
    },
    {
      "cell_type": "markdown",
      "source": [
        "The boosting model selected only five features out of 1000; the three overwhelmingly higher-ranking features are the 'true' features. "
      ],
      "metadata": {
        "id": "2yndLwLvaFhn"
      }
    },
    {
      "cell_type": "code",
      "source": [
        "pd.DataFrame({'test_results': [r1, r2, r3, r4, r5]}, \n",
        "             index=['No Noise, Regression w/Gradient Descent-based optimizer', \n",
        "                    'No Noise, FFNN w/ReLU Nonlinearity in Hidden Layer', \n",
        "                    'Noise, Regression w/Gradient Descent-based optimizer', \n",
        "                    'Noise, FFNN w/ReLU Nonlinearity in Hidden Layer', \n",
        "                    'Noise, XGBoost']).plot.barh().set_xlabel('MSE');"
      ],
      "metadata": {
        "colab": {
          "base_uri": "https://localhost:8080/",
          "height": 279
        },
        "id": "UzoEoekEqii7",
        "outputId": "07dc6ead-94d6-44c0-b924-5bb6a78482a2"
      },
      "execution_count": 25,
      "outputs": [
        {
          "output_type": "display_data",
          "data": {
            "text/plain": [
              "<Figure size 432x288 with 1 Axes>"
            ],
            "image/png": "[encoded data removed]"
          },
          "metadata": {
            "needs_background": "light"
          }
        }
      ]
    },
    {
      "cell_type": "markdown",
      "source": [
        "Feature selection in deep neural networks is an active area of research. A variety of approaches have been proposed including using dropout on the input layer, augmenting the loss function, or using an alternative optimization algorithm. \n",
        "\n",
        "Until major deep learning frameworks incorporate such an explicit feature selection method, neural network practitioners and researchers facing noisy feature spaces must implement a custom solution or use an alternative machine learning method such as a tree-based method which inherently performs feature selection during training."
      ],
      "metadata": {
        "id": "HryGQSzoWPp0"
      }
    }
  ]
}
